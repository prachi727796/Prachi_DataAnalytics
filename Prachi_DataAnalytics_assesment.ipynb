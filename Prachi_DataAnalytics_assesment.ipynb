{
  "nbformat": 4,
  "nbformat_minor": 0,
  "metadata": {
    "colab": {
      "provenance": []
    },
    "kernelspec": {
      "name": "python3",
      "display_name": "Python 3"
    },
    "language_info": {
      "name": "python"
    }
  },
  "cells": [
    {
      "cell_type": "markdown",
      "source": [
        "# Importing all the required Libraries and Reading the dataset"
      ],
      "metadata": {
        "id": "_R7hr183Ub_I"
      }
    },
    {
      "cell_type": "code",
      "execution_count": null,
      "metadata": {
        "colab": {
          "base_uri": "https://localhost:8080/",
          "height": 206
        },
        "id": "g0JcDbf7FPMu",
        "outputId": "aa8b6be9-b009-479d-92f0-4c24a7798b2e"
      },
      "outputs": [
        {
          "output_type": "execute_result",
          "data": {
            "text/plain": [
              "     Published Date Account Account Type          Campaign Name  \\\n",
              "0  03-31-2023 19:55    CSGO      TWITTER                   N/A    \n",
              "1  03-31-2023 19:49    CSGO      TWITTER                   N/A    \n",
              "2  03-31-2023 19:49    CSGO      TWITTER                   N/A    \n",
              "3  03-31-2023 19:49    CSGO      TWITTER                   N/A    \n",
              "4  03-31-2023 19:43    CSGO      TWITTER  Community Engagement    \n",
              "\n",
              "   Total Impressions  Total Engagements Media Type  \n",
              "0                  0                  0       Text  \n",
              "1                  0                  0       Text  \n",
              "2                  0                  0       Text  \n",
              "3                  0                  0       Text  \n",
              "4               9517               1215      Video  "
            ],
            "text/html": [
              "\n",
              "  <div id=\"df-a539c38a-4172-4bfa-8b26-05cbeebbdd08\">\n",
              "    <div class=\"colab-df-container\">\n",
              "      <div>\n",
              "<style scoped>\n",
              "    .dataframe tbody tr th:only-of-type {\n",
              "        vertical-align: middle;\n",
              "    }\n",
              "\n",
              "    .dataframe tbody tr th {\n",
              "        vertical-align: top;\n",
              "    }\n",
              "\n",
              "    .dataframe thead th {\n",
              "        text-align: right;\n",
              "    }\n",
              "</style>\n",
              "<table border=\"1\" class=\"dataframe\">\n",
              "  <thead>\n",
              "    <tr style=\"text-align: right;\">\n",
              "      <th></th>\n",
              "      <th>Published Date</th>\n",
              "      <th>Account</th>\n",
              "      <th>Account Type</th>\n",
              "      <th>Campaign Name</th>\n",
              "      <th>Total Impressions</th>\n",
              "      <th>Total Engagements</th>\n",
              "      <th>Media Type</th>\n",
              "    </tr>\n",
              "  </thead>\n",
              "  <tbody>\n",
              "    <tr>\n",
              "      <th>0</th>\n",
              "      <td>03-31-2023 19:55</td>\n",
              "      <td>CSGO</td>\n",
              "      <td>TWITTER</td>\n",
              "      <td>N/A</td>\n",
              "      <td>0</td>\n",
              "      <td>0</td>\n",
              "      <td>Text</td>\n",
              "    </tr>\n",
              "    <tr>\n",
              "      <th>1</th>\n",
              "      <td>03-31-2023 19:49</td>\n",
              "      <td>CSGO</td>\n",
              "      <td>TWITTER</td>\n",
              "      <td>N/A</td>\n",
              "      <td>0</td>\n",
              "      <td>0</td>\n",
              "      <td>Text</td>\n",
              "    </tr>\n",
              "    <tr>\n",
              "      <th>2</th>\n",
              "      <td>03-31-2023 19:49</td>\n",
              "      <td>CSGO</td>\n",
              "      <td>TWITTER</td>\n",
              "      <td>N/A</td>\n",
              "      <td>0</td>\n",
              "      <td>0</td>\n",
              "      <td>Text</td>\n",
              "    </tr>\n",
              "    <tr>\n",
              "      <th>3</th>\n",
              "      <td>03-31-2023 19:49</td>\n",
              "      <td>CSGO</td>\n",
              "      <td>TWITTER</td>\n",
              "      <td>N/A</td>\n",
              "      <td>0</td>\n",
              "      <td>0</td>\n",
              "      <td>Text</td>\n",
              "    </tr>\n",
              "    <tr>\n",
              "      <th>4</th>\n",
              "      <td>03-31-2023 19:43</td>\n",
              "      <td>CSGO</td>\n",
              "      <td>TWITTER</td>\n",
              "      <td>Community Engagement</td>\n",
              "      <td>9517</td>\n",
              "      <td>1215</td>\n",
              "      <td>Video</td>\n",
              "    </tr>\n",
              "  </tbody>\n",
              "</table>\n",
              "</div>\n",
              "      <button class=\"colab-df-convert\" onclick=\"convertToInteractive('df-a539c38a-4172-4bfa-8b26-05cbeebbdd08')\"\n",
              "              title=\"Convert this dataframe to an interactive table.\"\n",
              "              style=\"display:none;\">\n",
              "        \n",
              "  <svg xmlns=\"http://www.w3.org/2000/svg\" height=\"24px\"viewBox=\"0 0 24 24\"\n",
              "       width=\"24px\">\n",
              "    <path d=\"M0 0h24v24H0V0z\" fill=\"none\"/>\n",
              "    <path d=\"M18.56 5.44l.94 2.06.94-2.06 2.06-.94-2.06-.94-.94-2.06-.94 2.06-2.06.94zm-11 1L8.5 8.5l.94-2.06 2.06-.94-2.06-.94L8.5 2.5l-.94 2.06-2.06.94zm10 10l.94 2.06.94-2.06 2.06-.94-2.06-.94-.94-2.06-.94 2.06-2.06.94z\"/><path d=\"M17.41 7.96l-1.37-1.37c-.4-.4-.92-.59-1.43-.59-.52 0-1.04.2-1.43.59L10.3 9.45l-7.72 7.72c-.78.78-.78 2.05 0 2.83L4 21.41c.39.39.9.59 1.41.59.51 0 1.02-.2 1.41-.59l7.78-7.78 2.81-2.81c.8-.78.8-2.07 0-2.86zM5.41 20L4 18.59l7.72-7.72 1.47 1.35L5.41 20z\"/>\n",
              "  </svg>\n",
              "      </button>\n",
              "      \n",
              "  <style>\n",
              "    .colab-df-container {\n",
              "      display:flex;\n",
              "      flex-wrap:wrap;\n",
              "      gap: 12px;\n",
              "    }\n",
              "\n",
              "    .colab-df-convert {\n",
              "      background-color: #E8F0FE;\n",
              "      border: none;\n",
              "      border-radius: 50%;\n",
              "      cursor: pointer;\n",
              "      display: none;\n",
              "      fill: #1967D2;\n",
              "      height: 32px;\n",
              "      padding: 0 0 0 0;\n",
              "      width: 32px;\n",
              "    }\n",
              "\n",
              "    .colab-df-convert:hover {\n",
              "      background-color: #E2EBFA;\n",
              "      box-shadow: 0px 1px 2px rgba(60, 64, 67, 0.3), 0px 1px 3px 1px rgba(60, 64, 67, 0.15);\n",
              "      fill: #174EA6;\n",
              "    }\n",
              "\n",
              "    [theme=dark] .colab-df-convert {\n",
              "      background-color: #3B4455;\n",
              "      fill: #D2E3FC;\n",
              "    }\n",
              "\n",
              "    [theme=dark] .colab-df-convert:hover {\n",
              "      background-color: #434B5C;\n",
              "      box-shadow: 0px 1px 3px 1px rgba(0, 0, 0, 0.15);\n",
              "      filter: drop-shadow(0px 1px 2px rgba(0, 0, 0, 0.3));\n",
              "      fill: #FFFFFF;\n",
              "    }\n",
              "  </style>\n",
              "\n",
              "      <script>\n",
              "        const buttonEl =\n",
              "          document.querySelector('#df-a539c38a-4172-4bfa-8b26-05cbeebbdd08 button.colab-df-convert');\n",
              "        buttonEl.style.display =\n",
              "          google.colab.kernel.accessAllowed ? 'block' : 'none';\n",
              "\n",
              "        async function convertToInteractive(key) {\n",
              "          const element = document.querySelector('#df-a539c38a-4172-4bfa-8b26-05cbeebbdd08');\n",
              "          const dataTable =\n",
              "            await google.colab.kernel.invokeFunction('convertToInteractive',\n",
              "                                                     [key], {});\n",
              "          if (!dataTable) return;\n",
              "\n",
              "          const docLinkHtml = 'Like what you see? Visit the ' +\n",
              "            '<a target=\"_blank\" href=https://colab.research.google.com/notebooks/data_table.ipynb>data table notebook</a>'\n",
              "            + ' to learn more about interactive tables.';\n",
              "          element.innerHTML = '';\n",
              "          dataTable['output_type'] = 'display_data';\n",
              "          await google.colab.output.renderOutput(dataTable, element);\n",
              "          const docLink = document.createElement('div');\n",
              "          docLink.innerHTML = docLinkHtml;\n",
              "          element.appendChild(docLink);\n",
              "        }\n",
              "      </script>\n",
              "    </div>\n",
              "  </div>\n",
              "  "
            ]
          },
          "metadata": {},
          "execution_count": 88
        }
      ],
      "source": [
        "import pandas as pd\n",
        "import numpy as np\n",
        "\n",
        "df = pd.read_csv('https://raw.githubusercontent.com/ShreyasDasari/Data-Science-and-ML/main/social_data.csv')\n",
        "df.head()"
      ]
    },
    {
      "cell_type": "code",
      "source": [
        "df.shape"
      ],
      "metadata": {
        "colab": {
          "base_uri": "https://localhost:8080/"
        },
        "id": "GMz-mqQJG3Tm",
        "outputId": "3bcaed82-5f6b-41ba-e907-e34a4f8e3e37"
      },
      "execution_count": null,
      "outputs": [
        {
          "output_type": "execute_result",
          "data": {
            "text/plain": [
              "(3479, 7)"
            ]
          },
          "metadata": {},
          "execution_count": 89
        }
      ]
    },
    {
      "cell_type": "markdown",
      "source": [
        "# Question 1: What is the typical engagement rate we can expect? What’s the likelihood that we can achieve a 15% engagement rate?"
      ],
      "metadata": {
        "id": "Pe3Wl6zYPBPv"
      }
    },
    {
      "cell_type": "code",
      "source": [
        "# Calculate the likelihood of achieving a 15% engagement rate\n",
        "likelihood_15_percent = (df['Total Engagements'] >= 15).mean() * 100\n",
        "\n",
        "# Display the likelihood\n",
        "print(\"Likelihood of achieving a 15% engagement rate:\")\n",
        "print(likelihood_15_percent)"
      ],
      "metadata": {
        "colab": {
          "base_uri": "https://localhost:8080/"
        },
        "id": "CiPhGTk9JHYO",
        "outputId": "de7dfa10-887c-4714-9927-e625a4688372"
      },
      "execution_count": null,
      "outputs": [
        {
          "output_type": "stream",
          "name": "stdout",
          "text": [
            "Likelihood of achieving a 15% engagement rate:\n",
            "60.5921241736131\n"
          ]
        }
      ]
    },
    {
      "cell_type": "markdown",
      "source": [
        "Here, we assess the percentage of engagement rates that are greater than or equal to 15% in order to determine the likelihood. This percentage can be multiplied by 100 to get the likelihood as a percentage.\n",
        "\n",
        "Using the above dataset, we can execute this code to determine the normal engagement rate and the likelihood of obtaining a 15% engagement rate. We can better comprehend the data and estimate engagement rates with the aid of these revelations."
      ],
      "metadata": {
        "id": "yj7tZzM3WPmM"
      }
    },
    {
      "cell_type": "code",
      "source": [
        "df.head()"
      ],
      "metadata": {
        "colab": {
          "base_uri": "https://localhost:8080/",
          "height": 206
        },
        "id": "QY7CnLx3LJw4",
        "outputId": "7e665172-76e8-4a1e-c8ce-880379a50a5a"
      },
      "execution_count": null,
      "outputs": [
        {
          "output_type": "execute_result",
          "data": {
            "text/plain": [
              "     Published Date Account Account Type          Campaign Name  \\\n",
              "0  03-31-2023 19:55    CSGO      TWITTER                   N/A    \n",
              "1  03-31-2023 19:49    CSGO      TWITTER                   N/A    \n",
              "2  03-31-2023 19:49    CSGO      TWITTER                   N/A    \n",
              "3  03-31-2023 19:49    CSGO      TWITTER                   N/A    \n",
              "4  03-31-2023 19:43    CSGO      TWITTER  Community Engagement    \n",
              "\n",
              "   Total Impressions  Total Engagements Media Type  \n",
              "0                  0                  0       Text  \n",
              "1                  0                  0       Text  \n",
              "2                  0                  0       Text  \n",
              "3                  0                  0       Text  \n",
              "4               9517               1215      Video  "
            ],
            "text/html": [
              "\n",
              "  <div id=\"df-98c57bde-2192-4020-a083-89aaa74e4261\">\n",
              "    <div class=\"colab-df-container\">\n",
              "      <div>\n",
              "<style scoped>\n",
              "    .dataframe tbody tr th:only-of-type {\n",
              "        vertical-align: middle;\n",
              "    }\n",
              "\n",
              "    .dataframe tbody tr th {\n",
              "        vertical-align: top;\n",
              "    }\n",
              "\n",
              "    .dataframe thead th {\n",
              "        text-align: right;\n",
              "    }\n",
              "</style>\n",
              "<table border=\"1\" class=\"dataframe\">\n",
              "  <thead>\n",
              "    <tr style=\"text-align: right;\">\n",
              "      <th></th>\n",
              "      <th>Published Date</th>\n",
              "      <th>Account</th>\n",
              "      <th>Account Type</th>\n",
              "      <th>Campaign Name</th>\n",
              "      <th>Total Impressions</th>\n",
              "      <th>Total Engagements</th>\n",
              "      <th>Media Type</th>\n",
              "    </tr>\n",
              "  </thead>\n",
              "  <tbody>\n",
              "    <tr>\n",
              "      <th>0</th>\n",
              "      <td>03-31-2023 19:55</td>\n",
              "      <td>CSGO</td>\n",
              "      <td>TWITTER</td>\n",
              "      <td>N/A</td>\n",
              "      <td>0</td>\n",
              "      <td>0</td>\n",
              "      <td>Text</td>\n",
              "    </tr>\n",
              "    <tr>\n",
              "      <th>1</th>\n",
              "      <td>03-31-2023 19:49</td>\n",
              "      <td>CSGO</td>\n",
              "      <td>TWITTER</td>\n",
              "      <td>N/A</td>\n",
              "      <td>0</td>\n",
              "      <td>0</td>\n",
              "      <td>Text</td>\n",
              "    </tr>\n",
              "    <tr>\n",
              "      <th>2</th>\n",
              "      <td>03-31-2023 19:49</td>\n",
              "      <td>CSGO</td>\n",
              "      <td>TWITTER</td>\n",
              "      <td>N/A</td>\n",
              "      <td>0</td>\n",
              "      <td>0</td>\n",
              "      <td>Text</td>\n",
              "    </tr>\n",
              "    <tr>\n",
              "      <th>3</th>\n",
              "      <td>03-31-2023 19:49</td>\n",
              "      <td>CSGO</td>\n",
              "      <td>TWITTER</td>\n",
              "      <td>N/A</td>\n",
              "      <td>0</td>\n",
              "      <td>0</td>\n",
              "      <td>Text</td>\n",
              "    </tr>\n",
              "    <tr>\n",
              "      <th>4</th>\n",
              "      <td>03-31-2023 19:43</td>\n",
              "      <td>CSGO</td>\n",
              "      <td>TWITTER</td>\n",
              "      <td>Community Engagement</td>\n",
              "      <td>9517</td>\n",
              "      <td>1215</td>\n",
              "      <td>Video</td>\n",
              "    </tr>\n",
              "  </tbody>\n",
              "</table>\n",
              "</div>\n",
              "      <button class=\"colab-df-convert\" onclick=\"convertToInteractive('df-98c57bde-2192-4020-a083-89aaa74e4261')\"\n",
              "              title=\"Convert this dataframe to an interactive table.\"\n",
              "              style=\"display:none;\">\n",
              "        \n",
              "  <svg xmlns=\"http://www.w3.org/2000/svg\" height=\"24px\"viewBox=\"0 0 24 24\"\n",
              "       width=\"24px\">\n",
              "    <path d=\"M0 0h24v24H0V0z\" fill=\"none\"/>\n",
              "    <path d=\"M18.56 5.44l.94 2.06.94-2.06 2.06-.94-2.06-.94-.94-2.06-.94 2.06-2.06.94zm-11 1L8.5 8.5l.94-2.06 2.06-.94-2.06-.94L8.5 2.5l-.94 2.06-2.06.94zm10 10l.94 2.06.94-2.06 2.06-.94-2.06-.94-.94-2.06-.94 2.06-2.06.94z\"/><path d=\"M17.41 7.96l-1.37-1.37c-.4-.4-.92-.59-1.43-.59-.52 0-1.04.2-1.43.59L10.3 9.45l-7.72 7.72c-.78.78-.78 2.05 0 2.83L4 21.41c.39.39.9.59 1.41.59.51 0 1.02-.2 1.41-.59l7.78-7.78 2.81-2.81c.8-.78.8-2.07 0-2.86zM5.41 20L4 18.59l7.72-7.72 1.47 1.35L5.41 20z\"/>\n",
              "  </svg>\n",
              "      </button>\n",
              "      \n",
              "  <style>\n",
              "    .colab-df-container {\n",
              "      display:flex;\n",
              "      flex-wrap:wrap;\n",
              "      gap: 12px;\n",
              "    }\n",
              "\n",
              "    .colab-df-convert {\n",
              "      background-color: #E8F0FE;\n",
              "      border: none;\n",
              "      border-radius: 50%;\n",
              "      cursor: pointer;\n",
              "      display: none;\n",
              "      fill: #1967D2;\n",
              "      height: 32px;\n",
              "      padding: 0 0 0 0;\n",
              "      width: 32px;\n",
              "    }\n",
              "\n",
              "    .colab-df-convert:hover {\n",
              "      background-color: #E2EBFA;\n",
              "      box-shadow: 0px 1px 2px rgba(60, 64, 67, 0.3), 0px 1px 3px 1px rgba(60, 64, 67, 0.15);\n",
              "      fill: #174EA6;\n",
              "    }\n",
              "\n",
              "    [theme=dark] .colab-df-convert {\n",
              "      background-color: #3B4455;\n",
              "      fill: #D2E3FC;\n",
              "    }\n",
              "\n",
              "    [theme=dark] .colab-df-convert:hover {\n",
              "      background-color: #434B5C;\n",
              "      box-shadow: 0px 1px 3px 1px rgba(0, 0, 0, 0.15);\n",
              "      filter: drop-shadow(0px 1px 2px rgba(0, 0, 0, 0.3));\n",
              "      fill: #FFFFFF;\n",
              "    }\n",
              "  </style>\n",
              "\n",
              "      <script>\n",
              "        const buttonEl =\n",
              "          document.querySelector('#df-98c57bde-2192-4020-a083-89aaa74e4261 button.colab-df-convert');\n",
              "        buttonEl.style.display =\n",
              "          google.colab.kernel.accessAllowed ? 'block' : 'none';\n",
              "\n",
              "        async function convertToInteractive(key) {\n",
              "          const element = document.querySelector('#df-98c57bde-2192-4020-a083-89aaa74e4261');\n",
              "          const dataTable =\n",
              "            await google.colab.kernel.invokeFunction('convertToInteractive',\n",
              "                                                     [key], {});\n",
              "          if (!dataTable) return;\n",
              "\n",
              "          const docLinkHtml = 'Like what you see? Visit the ' +\n",
              "            '<a target=\"_blank\" href=https://colab.research.google.com/notebooks/data_table.ipynb>data table notebook</a>'\n",
              "            + ' to learn more about interactive tables.';\n",
              "          element.innerHTML = '';\n",
              "          dataTable['output_type'] = 'display_data';\n",
              "          await google.colab.output.renderOutput(dataTable, element);\n",
              "          const docLink = document.createElement('div');\n",
              "          docLink.innerHTML = docLinkHtml;\n",
              "          element.appendChild(docLink);\n",
              "        }\n",
              "      </script>\n",
              "    </div>\n",
              "  </div>\n",
              "  "
            ]
          },
          "metadata": {},
          "execution_count": 91
        }
      ]
    },
    {
      "cell_type": "code",
      "source": [
        "# Summary statistics\n",
        "print(df.describe())"
      ],
      "metadata": {
        "colab": {
          "base_uri": "https://localhost:8080/"
        },
        "id": "3terX6GDLNsy",
        "outputId": "5ddfcc6e-a2d6-4a5c-bcbe-4c16eef10ae5"
      },
      "execution_count": null,
      "outputs": [
        {
          "output_type": "stream",
          "name": "stdout",
          "text": [
            "       Total Impressions  Total Engagements\n",
            "count        3479.000000        3479.000000\n",
            "mean        10972.453579         947.390629\n",
            "std         29577.108063        3468.628038\n",
            "min             0.000000           0.000000\n",
            "25%           167.000000           0.000000\n",
            "50%          1884.000000          39.000000\n",
            "75%         12467.000000         276.500000\n",
            "max        753227.000000       95062.000000\n"
          ]
        }
      ]
    },
    {
      "cell_type": "code",
      "source": [
        "# Data types and missing values\n",
        "print(df.info())"
      ],
      "metadata": {
        "colab": {
          "base_uri": "https://localhost:8080/"
        },
        "id": "aVlZh61rLsW_",
        "outputId": "a02b5208-6bb3-41d9-b697-7094bc0625e3"
      },
      "execution_count": null,
      "outputs": [
        {
          "output_type": "stream",
          "name": "stdout",
          "text": [
            "<class 'pandas.core.frame.DataFrame'>\n",
            "RangeIndex: 3479 entries, 0 to 3478\n",
            "Data columns (total 7 columns):\n",
            " #   Column             Non-Null Count  Dtype \n",
            "---  ------             --------------  ----- \n",
            " 0   Published Date     3479 non-null   object\n",
            " 1   Account            3479 non-null   object\n",
            " 2   Account Type       3479 non-null   object\n",
            " 3   Campaign Name      3479 non-null   object\n",
            " 4   Total Impressions  3479 non-null   int64 \n",
            " 5   Total Engagements  3479 non-null   int64 \n",
            " 6   Media Type         3479 non-null   object\n",
            "dtypes: int64(2), object(5)\n",
            "memory usage: 190.4+ KB\n",
            "None\n"
          ]
        }
      ]
    },
    {
      "cell_type": "code",
      "source": [
        "# Unique values in categorical columns\n",
        "print('Account', df['Account'].unique())"
      ],
      "metadata": {
        "colab": {
          "base_uri": "https://localhost:8080/"
        },
        "id": "zcI5N_2pOGnE",
        "outputId": "b20aaed6-b08f-412a-8b81-01b42a6de23b"
      },
      "execution_count": null,
      "outputs": [
        {
          "output_type": "stream",
          "name": "stdout",
          "text": [
            "Account ['CSGO' 'General ' 'DOTA2' 'Content Creators' 'Valorant' 'General']\n"
          ]
        }
      ]
    },
    {
      "cell_type": "code",
      "source": [
        "print('Account Type',df['Account Type'].unique())"
      ],
      "metadata": {
        "colab": {
          "base_uri": "https://localhost:8080/"
        },
        "id": "a8UF5ZL1OJyi",
        "outputId": "4b97e94e-f13e-4561-e8e6-8855fc67ba91"
      },
      "execution_count": null,
      "outputs": [
        {
          "output_type": "stream",
          "name": "stdout",
          "text": [
            "Account Type ['TWITTER' 'FBPAGE' 'INSTAGRAM' 'TIKTOK_BUSINESS' 'YOUTUBE'\n",
            " 'LINKEDIN_COMPANY']\n"
          ]
        }
      ]
    },
    {
      "cell_type": "code",
      "source": [
        "print('Campaign Name',df['Campaign Name'].unique())"
      ],
      "metadata": {
        "colab": {
          "base_uri": "https://localhost:8080/"
        },
        "id": "mRZpg7j-OMoi",
        "outputId": "e2db9349-3b71-418b-cf90-f3e72f75beba"
      },
      "execution_count": null,
      "outputs": [
        {
          "output_type": "stream",
          "name": "stdout",
          "text": [
            "Campaign Name ['N/A ' 'Community Engagement ' 'Evergreen ' 'Evil Exhibited ']\n"
          ]
        }
      ]
    },
    {
      "cell_type": "code",
      "source": [
        "print('Media Type',df['Media Type'].unique())"
      ],
      "metadata": {
        "colab": {
          "base_uri": "https://localhost:8080/"
        },
        "id": "NxMSK_kUONXM",
        "outputId": "fea74b2c-d720-4fb7-a943-7c97db4daea6"
      },
      "execution_count": null,
      "outputs": [
        {
          "output_type": "stream",
          "name": "stdout",
          "text": [
            "Media Type ['Text' 'Video' 'Photo' 'Link' 'Carousel' 'Mixed' 'Album']\n"
          ]
        }
      ]
    },
    {
      "cell_type": "code",
      "source": [
        "import matplotlib.pyplot as plt\n",
        "\n",
        "# Data distribution\n",
        "df.hist(figsize=(10, 8))\n",
        "plt.tight_layout()\n",
        "plt.show()"
      ],
      "metadata": {
        "colab": {
          "base_uri": "https://localhost:8080/",
          "height": 807
        },
        "id": "byq9roecOPwH",
        "outputId": "381926d0-9743-4a70-ba9d-8dc975b84e37"
      },
      "execution_count": null,
      "outputs": [
        {
          "output_type": "display_data",
          "data": {
            "text/plain": [
              "<Figure size 1000x800 with 6 Axes>"
            ],
            "image/png": "[encoded data removed]"
          },
          "metadata": {}
        }
      ]
    },
    {
      "cell_type": "code",
      "source": [
        "# Scatter plot of Total Engagements vs. Total Impressions\n",
        "plt.scatter(df['Total Impressions'], df['Total Engagements'])\n",
        "plt.xlabel('Total Impressions')\n",
        "plt.ylabel('Total Engagements')\n",
        "plt.title('Total Engagements vs. Total Impressions')\n",
        "plt.show()"
      ],
      "metadata": {
        "colab": {
          "base_uri": "https://localhost:8080/",
          "height": 472
        },
        "id": "57gh27wXZ5FZ",
        "outputId": "827ef8da-8ad3-4bad-f69e-1cbd4a33ea0c"
      },
      "execution_count": null,
      "outputs": [
        {
          "output_type": "display_data",
          "data": {
            "text/plain": [
              "<Figure size 640x480 with 1 Axes>"
            ],
            "image/png": "[encoded data removed]"
          },
          "metadata": {}
        }
      ]
    },
    {
      "cell_type": "code",
      "source": [
        "# Bar plot of Media Type counts\n",
        "df['Media Type'].value_counts().plot(kind='bar')\n",
        "plt.xlabel('Media Type')\n",
        "plt.ylabel('Count')\n",
        "plt.title('Media Type Distribution')\n",
        "plt.show()"
      ],
      "metadata": {
        "colab": {
          "base_uri": "https://localhost:8080/",
          "height": 518
        },
        "id": "rut_3aUWOYUh",
        "outputId": "cd148f3e-8833-4ba6-ad6d-460f92e53aa7"
      },
      "execution_count": null,
      "outputs": [
        {
          "output_type": "display_data",
          "data": {
            "text/plain": [
              "<Figure size 640x480 with 1 Axes>"
            ],
            "image/png": "[encoded data removed]"
          },
          "metadata": {}
        }
      ]
    },
    {
      "cell_type": "markdown",
      "source": [
        "# Question 2: Does day of the week and time of posting affect engagement rates?"
      ],
      "metadata": {
        "id": "wYqxMDSzPNkt"
      }
    },
    {
      "cell_type": "code",
      "source": [
        "# Convert Published Date column to datetime\n",
        "df['Published Date'] = pd.to_datetime(df['Published Date'])"
      ],
      "metadata": {
        "id": "3-3aSZwROZvM"
      },
      "execution_count": null,
      "outputs": []
    },
    {
      "cell_type": "code",
      "source": [
        "# Extract the day of the week and hour of posting\n",
        "df['DayOfWeek'] = df['Published Date'].dt.dayofweek\n",
        "df['HourOfDay'] = df['Published Date'].dt.hour"
      ],
      "metadata": {
        "id": "QMMN2PkNPWPo"
      },
      "execution_count": null,
      "outputs": []
    },
    {
      "cell_type": "code",
      "source": [
        "print('Day of Week', df['DayOfWeek'].unique())"
      ],
      "metadata": {
        "colab": {
          "base_uri": "https://localhost:8080/"
        },
        "id": "STUFtB4rPYJ9",
        "outputId": "5667eb32-311a-462b-cc82-598c11b0d01d"
      },
      "execution_count": null,
      "outputs": [
        {
          "output_type": "stream",
          "name": "stdout",
          "text": [
            "Day of Week [4 3 2 1 0 6 5]\n"
          ]
        }
      ]
    },
    {
      "cell_type": "code",
      "source": [
        "# Calculate the average engagement rate by day of the week\n",
        "engagement_by_day = df.groupby('DayOfWeek')['Total Engagements'].mean()\n",
        "\n",
        "# Display the average engagement rate by day of the week\n",
        "print(\"Average Engagement Rate by Day of the Week:\")\n",
        "print(engagement_by_day)"
      ],
      "metadata": {
        "colab": {
          "base_uri": "https://localhost:8080/"
        },
        "id": "uNkhK3VHPaxz",
        "outputId": "c1f872e9-f748-436a-8aa3-a41e717eeac7"
      },
      "execution_count": null,
      "outputs": [
        {
          "output_type": "stream",
          "name": "stdout",
          "text": [
            "Average Engagement Rate by Day of the Week:\n",
            "DayOfWeek\n",
            "0     710.594017\n",
            "1    1303.898396\n",
            "2     780.027826\n",
            "3    1083.456091\n",
            "4     907.621469\n",
            "5     459.855799\n",
            "6    1051.808511\n",
            "Name: Total Engagements, dtype: float64\n"
          ]
        }
      ]
    },
    {
      "cell_type": "code",
      "source": [
        "# Calculate the average engagement rate by hour of the day\n",
        "engagement_by_hour = df.groupby('HourOfDay')['Total Engagements'].mean()\n",
        "\n",
        "# Display the average engagement rate by hour of the day\n",
        "print(\"Average Engagement Rate by Hour of the Day:\")\n",
        "print(engagement_by_hour)"
      ],
      "metadata": {
        "colab": {
          "base_uri": "https://localhost:8080/"
        },
        "id": "ok-DzAmBPwAo",
        "outputId": "a1a1b56b-3a6a-426c-d94e-d4243df9753c"
      },
      "execution_count": null,
      "outputs": [
        {
          "output_type": "stream",
          "name": "stdout",
          "text": [
            "Average Engagement Rate by Hour of the Day:\n",
            "HourOfDay\n",
            "0        0.000000\n",
            "2      274.000000\n",
            "3      852.333333\n",
            "4      459.444444\n",
            "5     2900.451613\n",
            "6      750.269231\n",
            "7     1186.945312\n",
            "8     1153.156977\n",
            "9     1217.143229\n",
            "10    1041.871698\n",
            "11     791.271505\n",
            "12     544.202572\n",
            "13     736.424699\n",
            "14    1210.969188\n",
            "15     631.969325\n",
            "16    1057.602007\n",
            "17    1247.127660\n",
            "18     989.710280\n",
            "19     155.340000\n",
            "20    1130.038462\n",
            "21     311.600000\n",
            "22      19.166667\n",
            "23      43.550000\n",
            "Name: Total Engagements, dtype: float64\n"
          ]
        }
      ]
    },
    {
      "cell_type": "markdown",
      "source": [
        "We can determine whether engagement rates vary depending on the time of posting by grouping the data by the hour of the day and computing the average engagement rate.\n",
        "\n",
        "Understanding if these variables have an effect on engagement rates may be learned by examining these average engagement rates by day of the week and hour of the day. To ascertain whether the day of the week and the time of posting have an impact on engagement rates in the dataset, we can look for any patterns or trends in the results."
      ],
      "metadata": {
        "id": "xCd2E7jIaMZg"
      }
    },
    {
      "cell_type": "markdown",
      "source": [
        "# Question 3: How are our game titles doing in terms of social performance? Is there a specific game we should focus more on or less?"
      ],
      "metadata": {
        "id": "hAJnvRhoQpoN"
      }
    },
    {
      "cell_type": "code",
      "source": [
        "# Get unique game titles\n",
        "game_titles = df['Account'].unique()\n",
        "game_titles"
      ],
      "metadata": {
        "colab": {
          "base_uri": "https://localhost:8080/"
        },
        "id": "qXHVCiG0P0ZR",
        "outputId": "49338082-b2f3-4f44-ccb3-9bcefeec88d1"
      },
      "execution_count": null,
      "outputs": [
        {
          "output_type": "execute_result",
          "data": {
            "text/plain": [
              "array(['CSGO', 'General ', 'DOTA2', 'Content Creators', 'Valorant',\n",
              "       'General'], dtype=object)"
            ]
          },
          "metadata": {},
          "execution_count": 113
        }
      ]
    },
    {
      "cell_type": "code",
      "source": [
        "# Calculate total engagements by game title\n",
        "engagements_by_game = df.groupby('Account')['Total Engagements'].sum()\n",
        "\n",
        "# Sort the engagements in descending order\n",
        "engagements_by_game = engagements_by_game.sort_values(ascending=False)\n",
        "\n",
        "# Display the total engagements by game title\n",
        "print(\"Total Engagements by Game Title:\")\n",
        "print(engagements_by_game)"
      ],
      "metadata": {
        "colab": {
          "base_uri": "https://localhost:8080/"
        },
        "id": "-NcGykcCRWz4",
        "outputId": "296aecf0-47f0-44c4-dbe7-3d6353675109"
      },
      "execution_count": null,
      "outputs": [
        {
          "output_type": "stream",
          "name": "stdout",
          "text": [
            "Total Engagements by Game Title:\n",
            "Account\n",
            "General             3076479\n",
            "DOTA2                123990\n",
            "CSGO                  92336\n",
            "Content Creators       1387\n",
            "Valorant                931\n",
            "General                 849\n",
            "Name: Total Engagements, dtype: int64\n"
          ]
        }
      ]
    },
    {
      "cell_type": "markdown",
      "source": [
        "The data is grouped by the game title (Account) using the groupby() function, and the sum of all engagements for each game is determined. We can find the games with the highest overall engagements by arranging the outcomes in descending order.\n",
        "\n",
        "We can determine which games are performing well in terms of social interaction based on the overall engagements. Games with higher total engagements may reflect greater audience interest and participation. Games with lower overall engagements, on the other hand, can need more attention or strategic focus to enhance their social performance.\n",
        "\n",
        "\n",
        "We can discover individual games that may need greater marketing efforts, content optimisation, or other techniques to improve their social performance by looking at the overall engagements for each game title. This analysis can guide decision-making on allocating resources and prioritizing games based on their social performance."
      ],
      "metadata": {
        "id": "J2HvdHHxRh5X"
      }
    },
    {
      "cell_type": "markdown",
      "source": [
        "# Question 4: What media type performs the best?"
      ],
      "metadata": {
        "id": "ns4PXbLCR_pH"
      }
    },
    {
      "cell_type": "code",
      "source": [
        "# Get unique media types\n",
        "media_types = df['Media Type'].unique()"
      ],
      "metadata": {
        "id": "NUCQ5HdoRbdc"
      },
      "execution_count": null,
      "outputs": []
    },
    {
      "cell_type": "code",
      "source": [
        "# Calculate total engagements by media type\n",
        "engagements_by_media = df.groupby('Media Type')['Total Engagements'].sum()\n",
        "\n",
        "# Sort the engagements in descending order\n",
        "engagements_by_media = engagements_by_media.sort_values(ascending=False)\n",
        "\n",
        "# Display the total engagements by media type\n",
        "print(\"Total Engagements by Media Type:\")\n",
        "print(engagements_by_media)"
      ],
      "metadata": {
        "colab": {
          "base_uri": "https://localhost:8080/"
        },
        "id": "qM40leddSLzE",
        "outputId": "b3752c58-e4c7-470a-c1ec-e1ed3f811d11"
      },
      "execution_count": null,
      "outputs": [
        {
          "output_type": "stream",
          "name": "stdout",
          "text": [
            "Total Engagements by Media Type:\n",
            "Media Type\n",
            "Photo       2167739\n",
            "Video        859451\n",
            "Text         246312\n",
            "Mixed         13664\n",
            "Carousel       6541\n",
            "Link           2257\n",
            "Album             8\n",
            "Name: Total Engagements, dtype: int64\n"
          ]
        }
      ]
    },
    {
      "cell_type": "markdown",
      "source": [
        "The data is grouped by media type using the groupby() method, and the sum of all engagements for each kind is computed. We may find the media types with the most overall engagements, such as photos, by descending sorting the results.\n",
        "\n",
        "\n",
        "It is possible to determine which media type works better in terms of social interaction by looking at the total engagements for each type of media. Higher levels of audience interest and involvement are indicated by the media type with the highest overall engagements.\n",
        "\n",
        "Understanding how various media forms, such as videos, photos, and articles, perform in terms of generating social engagement may be learned by analysing the total engagements by media type. This information can help guide decision-making on content creation, marketing strategies, and resource allocation based on the effectiveness of different media types in driving social performance."
      ],
      "metadata": {
        "id": "jpvb1Bh6S8NL"
      }
    },
    {
      "cell_type": "markdown",
      "source": [
        "# Question 5: What is our best performing campaign?"
      ],
      "metadata": {
        "id": "_TmqqBMfTGcF"
      }
    },
    {
      "cell_type": "code",
      "source": [
        "# Calculate total engagements by campaign\n",
        "engagements_by_campaign = df.groupby('Campaign Name')['Total Engagements'].sum()\n",
        "\n",
        "# Sort the engagements in descending order\n",
        "engagements_by_campaign = engagements_by_campaign.sort_values(ascending=False)\n",
        "\n",
        "# Display the total engagements by campaign\n",
        "print(\"Total Engagements by Campaign:\")\n",
        "print(engagements_by_campaign)"
      ],
      "metadata": {
        "colab": {
          "base_uri": "https://localhost:8080/"
        },
        "id": "ZGjHj1EpSOH-",
        "outputId": "6c140b4e-6bd5-460d-e31c-2a357515e6b7"
      },
      "execution_count": null,
      "outputs": [
        {
          "output_type": "stream",
          "name": "stdout",
          "text": [
            "Total Engagements by Campaign:\n",
            "Campaign Name\n",
            "Community Engagement     2044767\n",
            "N/A                      1022773\n",
            "Evil Exhibited            185305\n",
            "Evergreen                  43127\n",
            "Name: Total Engagements, dtype: int64\n"
          ]
        }
      ]
    },
    {
      "cell_type": "markdown",
      "source": [
        "By grouping the data by the \"Campaign Name\" column and calculating the sum of total engagements for each campaign, we can determine the social engagement levels of different campaigns. Sorting the results in descending order allows us to identify the campaign with the highest total engagements i.e Community Engagements.\n",
        "\n",
        "The campaign with the highest total engagements is considered the best performing campaign in terms of social engagement. It indicates a higher level of interest, engagement, or effectiveness in capturing audience attention.\n",
        "\n",
        "By examining the total engagements for each campaign, we can identify the best performing campaign and gain insights into its success factors. This analysis can guide decision-making regarding campaign strategies, content optimization, and resource allocation to maximize social performance."
      ],
      "metadata": {
        "id": "euijU0r8TaQw"
      }
    },
    {
      "cell_type": "markdown",
      "source": [
        "# Question 6: Define out a posting strategy for our social channels based on your discoveries."
      ],
      "metadata": {
        "id": "YD38pzNRTjCn"
      }
    },
    {
      "cell_type": "markdown",
      "source": [
        "Based on the discoveries from the dataset analysis, we can define a posting strategy for your social channels. Here are some recommendations based on the insights gained:\n",
        "\n",
        "Optimal Posting Days: Determine the days of the week that show higher engagement rates. Focus on posting content during these days to maximize audience interaction and reach. Monitor the dataset's analysis of engagement rates by the day of the week and identify the most effective posting days.\n",
        "\n",
        "Peak Posting Hours: Identify the time of day when engagement rates are higher. Schedule your posts during these peak hours to ensure maximum visibility and engagement. Analyze the dataset's findings on engagement rates by the hour of the day and determine the best posting times.\n",
        "\n",
        "Emphasize High-Performing Media Types: Identify the media types that perform the best in terms of total engagements. Allocate more resources and focus on creating and promoting content in these high-performing media formats. Refer to the dataset analysis on media type performance to determine the most effective formats for engaging your audience.\n",
        "\n",
        "Promote Best Performing Campaigns: Identify the best performing campaign based on total engagements. Allocate additional resources and promotional efforts to further enhance the performance of this campaign. Capitalize on its success by creating complementary content, running targeted ads, or leveraging influencers to increase its reach and impact.\n",
        "\n",
        "Content Optimization: Analyze the dataset to identify patterns and preferences in content that resonates with the audience. Focus on creating content that aligns with these preferences, whether it's specific themes, formats, or messaging styles. Continuously monitor the performance metrics and iterate on content strategies to maximize engagement.\n",
        "\n",
        "Test and Experiment: Use the dataset analysis as a starting point, but continue to experiment and test different posting strategies. Monitor the performance of your posts, track engagement metrics, and adapt your strategy based on the real-time feedback. Regularly analyze the results and refine your posting strategy accordingly.\n",
        "\n",
        "Audience Interaction and Engagement: Encourage audience interaction by actively responding to comments, messages, and mentions. Engage with your audience through contests, polls, or user-generated content campaigns. Building a strong relationship with your audience can lead to increased engagement and loyalty.\n",
        "\n",
        "Performance Tracking and Analytics: Continuously track and measure the performance of your social channels using relevant analytics tools. Monitor key metrics such as engagement rates, reach, click-through rates, and conversions. Regularly review the data and make data-driven decisions to optimize your posting strategy.\n",
        "\n",
        "Remember that social media strategies should be adaptable and flexible. It's essential to monitor the performance of your social channels, stay updated with the latest trends and changes in your industry, and adjust your strategy as needed to stay relevant and drive optimal results."
      ],
      "metadata": {
        "id": "p9C3Wmk3T1vL"
      }
    },
    {
      "cell_type": "markdown",
      "source": [
        "#Question 7: What suggestions would you give to the social media team if they want to expand their presence (e.g. if our CSGO youtube channel is doing well should we expand to TikTok)?"
      ],
      "metadata": {
        "id": "E0kYZvtPT-Ci"
      }
    },
    {
      "cell_type": "markdown",
      "source": [
        "Expanding your social media presence can be a strategic move to reach a wider audience and maximize your brand's visibility. Here are some suggestions for the social media team if they want to expand their presence:\n",
        "\n",
        "Assess Platform Relevance: Evaluate the relevance and suitability of different social media platforms based on your target audience and the nature of your content. Consider factors such as demographics, user behavior, and content format to determine which platforms align well with your goals.\n",
        "\n",
        "Leverage Successful Channels: If your CSGO YouTube channel is performing well, consider expanding to other platforms that complement video content, such as TikTok. Repurpose or create shorter, engaging clips or highlights from your YouTube channel to cater to the TikTok audience. Capitalize on the success of your YouTube channel and leverage it to grow your presence on other platforms.\n",
        "\n",
        "Understand Platform Differences: Each social media platform has its own unique features, audience demographics, and content formats. Take the time to understand these differences and adapt your content strategy accordingly. Tailor your content to fit the specific requirements and preferences of each platform while maintaining a consistent brand identity.\n",
        "\n",
        "Research and Experiment: Conduct thorough research on the platform you are considering expanding to. Understand its user base, content trends, and engagement patterns. Experiment with different types of content and engagement strategies to gauge the response of the audience on that platform. Use analytics and performance metrics to track your progress and make data-driven decisions.\n",
        "\n",
        "Cross-Promotion and Integration: Cross-promote your presence on different platforms to leverage the existing audience and increase visibility. Promote your TikTok content on your YouTube channel and vice versa. Use social media bio sections and profile descriptions to highlight your presence on other platforms. Encourage your audience to follow you across multiple channels to stay updated on all your content.\n",
        "\n",
        "Tailor Content to Platform: Customize your content to suit the platform you are expanding to. Each platform has its own content formats, such as short videos on TikTok, visual images on Instagram, or concise updates on Twitter. Adapt your content strategy to fit these formats while staying true to your brand's voice and values.\n",
        "\n",
        "Engage with the Community: Actively engage with the community on the new platform. Interact with users, respond to comments, and participate in relevant discussions. Building a strong presence and establishing connections with the audience will help grow your following and increase your reach.\n",
        "\n",
        "Monitor and Evaluate: Continuously monitor the performance of your expanded presence on different platforms. Analyze engagement metrics, follower growth, and audience feedback. Evaluate the impact and return on investment from each platform and adjust your strategies accordingly. Stay agile and responsive to the ever-changing social media landscape.\n",
        "\n",
        "Expanding your presence to new social media platforms can open up new opportunities and broaden your audience reach. However, it's important to consider your resources, content production capabilities, and the alignment of each platform with your brand identity. Strategic planning, research, experimentation, and data analysis will guide your decision-making process and help you make informed choices when expanding your social media presence."
      ],
      "metadata": {
        "id": "QeuDe0S3UWVl"
      }
    }
  ]
}